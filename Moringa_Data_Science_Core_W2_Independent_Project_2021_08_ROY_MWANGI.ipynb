{
  "nbformat": 4,
  "nbformat_minor": 0,
  "metadata": {
    "colab": {
      "name": "Moringa_Data_Science_Core_W2_Independent_Project_2021_08_ROY_MWANGI.ipynb",
      "provenance": [],
      "toc_visible": true,
      "authorship_tag": "ABX9TyPAZqdO3WIO8PY7jWlny/3M",
      "include_colab_link": true
    },
    "kernelspec": {
      "name": "python3",
      "display_name": "Python 3"
    }
  },
  "cells": [
    {
      "cell_type": "markdown",
      "metadata": {
        "id": "view-in-github",
        "colab_type": "text"
      },
      "source": [
        "<a href=\"https://colab.research.google.com/github/MwangiMwaniki/Financial-inclusion/blob/main/Moringa_Data_Science_Core_W2_Independent_Project_2021_08_ROY_MWANGI.ipynb\" target=\"_parent\"><img src=\"https://colab.research.google.com/assets/colab-badge.svg\" alt=\"Open In Colab\"/></a>"
      ]
    },
    {
      "cell_type": "markdown",
      "metadata": {
        "id": "lqW3FqI41oH6"
      },
      "source": [
        "##1. Defining the Question"
      ]
    },
    {
      "cell_type": "markdown",
      "metadata": {
        "id": "C91Qr4EP1wHp"
      },
      "source": [
        "#a) Specifying the Data Analytic Question\r\n",
        "\r\n",
        "Predict which individuals are most likely to have or use a bank account\r\n",
        "#b) Defining the Metric for Success\r\n",
        "\r\n",
        "Get to predict which individuals are most likely to have or use a bank account\r\n",
        "Get the indicators of Financial inclusion in the 3 countries.\r\n",
        "#c) Understanding the context\r\n",
        "\r\n",
        "Financial Inclusion remains one of the main obstacles to economic and human development in Africa. For example, across Kenya, Rwanda, Tanzania, and Uganda only 9.1 million adults (or 13.9% of the adult population) have access to or use a commercial bank account.\r\n",
        "\r\n",
        "Traditionally, access to bank accounts has been regarded as an indicator of financial inclusion. Despite the proliferation of mobile money in Africa and the growth of innovative fintech solutions, banks still play a pivotal role in facilitating access to financial services. Access to bank accounts enables households to save and facilitate payments while also helping businesses build up their credit-worthiness and improve their access to other financial services. Therefore, access to bank accounts is an essential contributor to long-term economic growth.\r\n",
        "\r\n",
        "Doing the research will help provide an indication of the state of financial inclusion in Kenya, Rwanda, Tanzania, and Uganda, while providing insights into some of the key demographic factors that might drive individuals’ financial outcomes.\r\n",
        "\r\n",
        "#d) Recording the Experimental Design\r\n",
        "\r\n",
        "1. Reading the Data\r\n",
        "2. Checking the Data\r\n",
        "3.External Data Source Validation\r\n",
        "4.Tidying the Dataset\r\n",
        "5.Cental measures of Dispersions\r\n",
        "6.Exploratory Analysis\r\n",
        "7.Implementing the Solution\r\n",
        "8. Challenging the solution\r\n",
        "9. Follow-up questions"
      ]
    },
    {
      "cell_type": "markdown",
      "metadata": {
        "id": "-VZqKx1v22J6"
      },
      "source": [
        "##DATA ANALYSIS"
      ]
    },
    {
      "cell_type": "markdown",
      "metadata": {
        "id": "8601Gu2F3ETU"
      },
      "source": [
        "## Reading the Data"
      ]
    },
    {
      "cell_type": "code",
      "metadata": {
        "id": "zQ5WkFkO3O0E"
      },
      "source": [
        "#First we will import the necessary libraries\r\n",
        "import numpy as np\r\n",
        "import pandas as pd\r\n",
        "import matplotlib.pyplot as plt\r\n",
        "import seaborn as sns"
      ],
      "execution_count": 57,
      "outputs": []
    },
    {
      "cell_type": "code",
      "metadata": {
        "colab": {
          "base_uri": "https://localhost:8080/",
          "height": 264
        },
        "id": "lozIMLxt4dax",
        "outputId": "8be698e2-cbd0-4716-b73b-b2c7e751479f"
      },
      "source": [
        "# Loading the Data from the source\r\n",
        "# ---\r\n",
        "data = pd.read_csv(\"http://bit.ly/FinancialDataset\")\r\n",
        "#Previewing the upper part of the data\r\n",
        "data.head(3)"
      ],
      "execution_count": 58,
      "outputs": [
        {
          "output_type": "execute_result",
          "data": {
            "text/html": [
              "<div>\n",
              "<style scoped>\n",
              "    .dataframe tbody tr th:only-of-type {\n",
              "        vertical-align: middle;\n",
              "    }\n",
              "\n",
              "    .dataframe tbody tr th {\n",
              "        vertical-align: top;\n",
              "    }\n",
              "\n",
              "    .dataframe thead th {\n",
              "        text-align: right;\n",
              "    }\n",
              "</style>\n",
              "<table border=\"1\" class=\"dataframe\">\n",
              "  <thead>\n",
              "    <tr style=\"text-align: right;\">\n",
              "      <th></th>\n",
              "      <th>country</th>\n",
              "      <th>year</th>\n",
              "      <th>uniqueid</th>\n",
              "      <th>Has a Bank account</th>\n",
              "      <th>Type of Location</th>\n",
              "      <th>Cell Phone Access</th>\n",
              "      <th>household_size</th>\n",
              "      <th>Respondent Age</th>\n",
              "      <th>gender_of_respondent</th>\n",
              "      <th>The relathip with head</th>\n",
              "      <th>marital_status</th>\n",
              "      <th>Level of Educuation</th>\n",
              "      <th>Type of Job</th>\n",
              "    </tr>\n",
              "  </thead>\n",
              "  <tbody>\n",
              "    <tr>\n",
              "      <th>0</th>\n",
              "      <td>Kenya</td>\n",
              "      <td>2018</td>\n",
              "      <td>uniqueid_1</td>\n",
              "      <td>Yes</td>\n",
              "      <td>Rural</td>\n",
              "      <td>Yes</td>\n",
              "      <td>3.0</td>\n",
              "      <td>24.0</td>\n",
              "      <td>Female</td>\n",
              "      <td>Spouse</td>\n",
              "      <td>Married/Living together</td>\n",
              "      <td>Secondary education</td>\n",
              "      <td>Self employed</td>\n",
              "    </tr>\n",
              "    <tr>\n",
              "      <th>1</th>\n",
              "      <td>Kenya</td>\n",
              "      <td>2018</td>\n",
              "      <td>uniqueid_2</td>\n",
              "      <td>No</td>\n",
              "      <td>Rural</td>\n",
              "      <td>No</td>\n",
              "      <td>5.0</td>\n",
              "      <td>70.0</td>\n",
              "      <td>Female</td>\n",
              "      <td>Head of Household</td>\n",
              "      <td>Widowed</td>\n",
              "      <td>No formal education</td>\n",
              "      <td>Government Dependent</td>\n",
              "    </tr>\n",
              "    <tr>\n",
              "      <th>2</th>\n",
              "      <td>Kenya</td>\n",
              "      <td>2018</td>\n",
              "      <td>uniqueid_3</td>\n",
              "      <td>Yes</td>\n",
              "      <td>Urban</td>\n",
              "      <td>Yes</td>\n",
              "      <td>5.0</td>\n",
              "      <td>26.0</td>\n",
              "      <td>Male</td>\n",
              "      <td>Other relative</td>\n",
              "      <td>Single/Never Married</td>\n",
              "      <td>Vocational/Specialised training</td>\n",
              "      <td>Self employed</td>\n",
              "    </tr>\n",
              "  </tbody>\n",
              "</table>\n",
              "</div>"
            ],
            "text/plain": [
              "  country  year  ...              Level of Educuation           Type of Job\n",
              "0   Kenya  2018  ...              Secondary education         Self employed\n",
              "1   Kenya  2018  ...              No formal education  Government Dependent\n",
              "2   Kenya  2018  ...  Vocational/Specialised training         Self employed\n",
              "\n",
              "[3 rows x 13 columns]"
            ]
          },
          "metadata": {
            "tags": []
          },
          "execution_count": 58
        }
      ]
    },
    {
      "cell_type": "markdown",
      "metadata": {
        "id": "0r-IMjdU5ogS"
      },
      "source": [
        "##Checking Data"
      ]
    },
    {
      "cell_type": "code",
      "metadata": {
        "colab": {
          "base_uri": "https://localhost:8080/"
        },
        "id": "vJtqwYS25XsW",
        "outputId": "f47b8c5a-0e97-4ed9-e24d-6f698f581f63"
      },
      "source": [
        "# Determining the no. of records in our dataset\r\n",
        "#\r\n",
        "data.shape"
      ],
      "execution_count": 59,
      "outputs": [
        {
          "output_type": "execute_result",
          "data": {
            "text/plain": [
              "(23524, 13)"
            ]
          },
          "metadata": {
            "tags": []
          },
          "execution_count": 59
        }
      ]
    },
    {
      "cell_type": "code",
      "metadata": {
        "colab": {
          "base_uri": "https://localhost:8080/",
          "height": 264
        },
        "id": "3QB75TCr520Y",
        "outputId": "b6e9bdf2-70e4-432f-d246-c49d35538108"
      },
      "source": [
        "data.tail(3)"
      ],
      "execution_count": 60,
      "outputs": [
        {
          "output_type": "execute_result",
          "data": {
            "text/html": [
              "<div>\n",
              "<style scoped>\n",
              "    .dataframe tbody tr th:only-of-type {\n",
              "        vertical-align: middle;\n",
              "    }\n",
              "\n",
              "    .dataframe tbody tr th {\n",
              "        vertical-align: top;\n",
              "    }\n",
              "\n",
              "    .dataframe thead th {\n",
              "        text-align: right;\n",
              "    }\n",
              "</style>\n",
              "<table border=\"1\" class=\"dataframe\">\n",
              "  <thead>\n",
              "    <tr style=\"text-align: right;\">\n",
              "      <th></th>\n",
              "      <th>country</th>\n",
              "      <th>year</th>\n",
              "      <th>uniqueid</th>\n",
              "      <th>Has a Bank account</th>\n",
              "      <th>Type of Location</th>\n",
              "      <th>Cell Phone Access</th>\n",
              "      <th>household_size</th>\n",
              "      <th>Respondent Age</th>\n",
              "      <th>gender_of_respondent</th>\n",
              "      <th>The relathip with head</th>\n",
              "      <th>marital_status</th>\n",
              "      <th>Level of Educuation</th>\n",
              "      <th>Type of Job</th>\n",
              "    </tr>\n",
              "  </thead>\n",
              "  <tbody>\n",
              "    <tr>\n",
              "      <th>23521</th>\n",
              "      <td>Uganda</td>\n",
              "      <td>2018</td>\n",
              "      <td>uniqueid_2115</td>\n",
              "      <td>No</td>\n",
              "      <td>Rural</td>\n",
              "      <td>Yes</td>\n",
              "      <td>5.0</td>\n",
              "      <td>27.0</td>\n",
              "      <td>Female</td>\n",
              "      <td>Parent</td>\n",
              "      <td>Widowed</td>\n",
              "      <td>Primary education</td>\n",
              "      <td>Other Income</td>\n",
              "    </tr>\n",
              "    <tr>\n",
              "      <th>23522</th>\n",
              "      <td>Uganda</td>\n",
              "      <td>2018</td>\n",
              "      <td>uniqueid_2116</td>\n",
              "      <td>No</td>\n",
              "      <td>Urban</td>\n",
              "      <td>Yes</td>\n",
              "      <td>7.0</td>\n",
              "      <td>30.0</td>\n",
              "      <td>Female</td>\n",
              "      <td>Parent</td>\n",
              "      <td>Divorced/Seperated</td>\n",
              "      <td>Secondary education</td>\n",
              "      <td>Self employed</td>\n",
              "    </tr>\n",
              "    <tr>\n",
              "      <th>23523</th>\n",
              "      <td>Uganda</td>\n",
              "      <td>2018</td>\n",
              "      <td>uniqueid_2117</td>\n",
              "      <td>No</td>\n",
              "      <td>Rural</td>\n",
              "      <td>Yes</td>\n",
              "      <td>10.0</td>\n",
              "      <td>20.0</td>\n",
              "      <td>Male</td>\n",
              "      <td>Child</td>\n",
              "      <td>Single/Never Married</td>\n",
              "      <td>Secondary education</td>\n",
              "      <td>No Income</td>\n",
              "    </tr>\n",
              "  </tbody>\n",
              "</table>\n",
              "</div>"
            ],
            "text/plain": [
              "      country  year  ...  Level of Educuation    Type of Job\n",
              "23521  Uganda  2018  ...    Primary education   Other Income\n",
              "23522  Uganda  2018  ...  Secondary education  Self employed\n",
              "23523  Uganda  2018  ...  Secondary education      No Income\n",
              "\n",
              "[3 rows x 13 columns]"
            ]
          },
          "metadata": {
            "tags": []
          },
          "execution_count": 60
        }
      ]
    },
    {
      "cell_type": "code",
      "metadata": {
        "colab": {
          "base_uri": "https://localhost:8080/",
          "height": 264
        },
        "id": "ExILblnG6GKB",
        "outputId": "df66ce63-3ca7-4fbe-f491-486abccf21f6"
      },
      "source": [
        "data.head(3)"
      ],
      "execution_count": 61,
      "outputs": [
        {
          "output_type": "execute_result",
          "data": {
            "text/html": [
              "<div>\n",
              "<style scoped>\n",
              "    .dataframe tbody tr th:only-of-type {\n",
              "        vertical-align: middle;\n",
              "    }\n",
              "\n",
              "    .dataframe tbody tr th {\n",
              "        vertical-align: top;\n",
              "    }\n",
              "\n",
              "    .dataframe thead th {\n",
              "        text-align: right;\n",
              "    }\n",
              "</style>\n",
              "<table border=\"1\" class=\"dataframe\">\n",
              "  <thead>\n",
              "    <tr style=\"text-align: right;\">\n",
              "      <th></th>\n",
              "      <th>country</th>\n",
              "      <th>year</th>\n",
              "      <th>uniqueid</th>\n",
              "      <th>Has a Bank account</th>\n",
              "      <th>Type of Location</th>\n",
              "      <th>Cell Phone Access</th>\n",
              "      <th>household_size</th>\n",
              "      <th>Respondent Age</th>\n",
              "      <th>gender_of_respondent</th>\n",
              "      <th>The relathip with head</th>\n",
              "      <th>marital_status</th>\n",
              "      <th>Level of Educuation</th>\n",
              "      <th>Type of Job</th>\n",
              "    </tr>\n",
              "  </thead>\n",
              "  <tbody>\n",
              "    <tr>\n",
              "      <th>0</th>\n",
              "      <td>Kenya</td>\n",
              "      <td>2018</td>\n",
              "      <td>uniqueid_1</td>\n",
              "      <td>Yes</td>\n",
              "      <td>Rural</td>\n",
              "      <td>Yes</td>\n",
              "      <td>3.0</td>\n",
              "      <td>24.0</td>\n",
              "      <td>Female</td>\n",
              "      <td>Spouse</td>\n",
              "      <td>Married/Living together</td>\n",
              "      <td>Secondary education</td>\n",
              "      <td>Self employed</td>\n",
              "    </tr>\n",
              "    <tr>\n",
              "      <th>1</th>\n",
              "      <td>Kenya</td>\n",
              "      <td>2018</td>\n",
              "      <td>uniqueid_2</td>\n",
              "      <td>No</td>\n",
              "      <td>Rural</td>\n",
              "      <td>No</td>\n",
              "      <td>5.0</td>\n",
              "      <td>70.0</td>\n",
              "      <td>Female</td>\n",
              "      <td>Head of Household</td>\n",
              "      <td>Widowed</td>\n",
              "      <td>No formal education</td>\n",
              "      <td>Government Dependent</td>\n",
              "    </tr>\n",
              "    <tr>\n",
              "      <th>2</th>\n",
              "      <td>Kenya</td>\n",
              "      <td>2018</td>\n",
              "      <td>uniqueid_3</td>\n",
              "      <td>Yes</td>\n",
              "      <td>Urban</td>\n",
              "      <td>Yes</td>\n",
              "      <td>5.0</td>\n",
              "      <td>26.0</td>\n",
              "      <td>Male</td>\n",
              "      <td>Other relative</td>\n",
              "      <td>Single/Never Married</td>\n",
              "      <td>Vocational/Specialised training</td>\n",
              "      <td>Self employed</td>\n",
              "    </tr>\n",
              "  </tbody>\n",
              "</table>\n",
              "</div>"
            ],
            "text/plain": [
              "  country  year  ...              Level of Educuation           Type of Job\n",
              "0   Kenya  2018  ...              Secondary education         Self employed\n",
              "1   Kenya  2018  ...              No formal education  Government Dependent\n",
              "2   Kenya  2018  ...  Vocational/Specialised training         Self employed\n",
              "\n",
              "[3 rows x 13 columns]"
            ]
          },
          "metadata": {
            "tags": []
          },
          "execution_count": 61
        }
      ]
    },
    {
      "cell_type": "code",
      "metadata": {
        "colab": {
          "base_uri": "https://localhost:8080/"
        },
        "id": "xt_w88YX6aD6",
        "outputId": "d9723beb-f6b1-41af-cd3f-2b78f927c4ab"
      },
      "source": [
        "#Getting column names\r\n",
        "data.columns"
      ],
      "execution_count": 62,
      "outputs": [
        {
          "output_type": "execute_result",
          "data": {
            "text/plain": [
              "Index(['country', 'year', 'uniqueid', 'Has a Bank account', 'Type of Location',\n",
              "       'Cell Phone Access', 'household_size', 'Respondent Age',\n",
              "       'gender_of_respondent', 'The relathip with head', 'marital_status',\n",
              "       'Level of Educuation', 'Type of Job'],\n",
              "      dtype='object')"
            ]
          },
          "metadata": {
            "tags": []
          },
          "execution_count": 62
        }
      ]
    },
    {
      "cell_type": "code",
      "metadata": {
        "colab": {
          "base_uri": "https://localhost:8080/"
        },
        "id": "OfKP6Bwt6cXL",
        "outputId": "df44163a-05e2-4669-bba4-6f9d47fc4634"
      },
      "source": [
        "# Checking whether each column has an appropriate datatype\r\n",
        "data.dtypes\r\n",
        "#Here we can conclude that most of our data is of type object\r\n",
        "#But the column year is int64 and household size and age are both float64"
      ],
      "execution_count": 63,
      "outputs": [
        {
          "output_type": "execute_result",
          "data": {
            "text/plain": [
              "country                    object\n",
              "year                        int64\n",
              "uniqueid                   object\n",
              "Has a Bank account         object\n",
              "Type of Location           object\n",
              "Cell Phone Access          object\n",
              "household_size            float64\n",
              "Respondent Age            float64\n",
              "gender_of_respondent       object\n",
              "The relathip with head     object\n",
              "marital_status             object\n",
              "Level of Educuation        object\n",
              "Type of Job                object\n",
              "dtype: object"
            ]
          },
          "metadata": {
            "tags": []
          },
          "execution_count": 63
        }
      ]
    },
    {
      "cell_type": "code",
      "metadata": {
        "colab": {
          "base_uri": "https://localhost:8080/",
          "height": 297
        },
        "id": "IZq2dwtq6n_0",
        "outputId": "0555720c-ff04-4bc9-99d4-9a9da6d20356"
      },
      "source": [
        "# Checking dataset details\r\n",
        "#\r\n",
        "data.describe()\r\n",
        "\r\n",
        "#the mean household size is 3.68 and the mean age of the population is 38.8 years"
      ],
      "execution_count": 64,
      "outputs": [
        {
          "output_type": "execute_result",
          "data": {
            "text/html": [
              "<div>\n",
              "<style scoped>\n",
              "    .dataframe tbody tr th:only-of-type {\n",
              "        vertical-align: middle;\n",
              "    }\n",
              "\n",
              "    .dataframe tbody tr th {\n",
              "        vertical-align: top;\n",
              "    }\n",
              "\n",
              "    .dataframe thead th {\n",
              "        text-align: right;\n",
              "    }\n",
              "</style>\n",
              "<table border=\"1\" class=\"dataframe\">\n",
              "  <thead>\n",
              "    <tr style=\"text-align: right;\">\n",
              "      <th></th>\n",
              "      <th>year</th>\n",
              "      <th>household_size</th>\n",
              "      <th>Respondent Age</th>\n",
              "    </tr>\n",
              "  </thead>\n",
              "  <tbody>\n",
              "    <tr>\n",
              "      <th>count</th>\n",
              "      <td>23524.000000</td>\n",
              "      <td>23496.000000</td>\n",
              "      <td>23490.000000</td>\n",
              "    </tr>\n",
              "    <tr>\n",
              "      <th>mean</th>\n",
              "      <td>2016.979000</td>\n",
              "      <td>3.681818</td>\n",
              "      <td>38.804300</td>\n",
              "    </tr>\n",
              "    <tr>\n",
              "      <th>std</th>\n",
              "      <td>0.899669</td>\n",
              "      <td>2.279933</td>\n",
              "      <td>16.519996</td>\n",
              "    </tr>\n",
              "    <tr>\n",
              "      <th>min</th>\n",
              "      <td>2016.000000</td>\n",
              "      <td>0.000000</td>\n",
              "      <td>16.000000</td>\n",
              "    </tr>\n",
              "    <tr>\n",
              "      <th>25%</th>\n",
              "      <td>2016.000000</td>\n",
              "      <td>2.000000</td>\n",
              "      <td>26.000000</td>\n",
              "    </tr>\n",
              "    <tr>\n",
              "      <th>50%</th>\n",
              "      <td>2017.000000</td>\n",
              "      <td>3.000000</td>\n",
              "      <td>35.000000</td>\n",
              "    </tr>\n",
              "    <tr>\n",
              "      <th>75%</th>\n",
              "      <td>2018.000000</td>\n",
              "      <td>5.000000</td>\n",
              "      <td>49.000000</td>\n",
              "    </tr>\n",
              "    <tr>\n",
              "      <th>max</th>\n",
              "      <td>2056.000000</td>\n",
              "      <td>21.000000</td>\n",
              "      <td>100.000000</td>\n",
              "    </tr>\n",
              "  </tbody>\n",
              "</table>\n",
              "</div>"
            ],
            "text/plain": [
              "               year  household_size  Respondent Age\n",
              "count  23524.000000    23496.000000    23490.000000\n",
              "mean    2016.979000        3.681818       38.804300\n",
              "std        0.899669        2.279933       16.519996\n",
              "min     2016.000000        0.000000       16.000000\n",
              "25%     2016.000000        2.000000       26.000000\n",
              "50%     2017.000000        3.000000       35.000000\n",
              "75%     2018.000000        5.000000       49.000000\n",
              "max     2056.000000       21.000000      100.000000"
            ]
          },
          "metadata": {
            "tags": []
          },
          "execution_count": 64
        }
      ]
    },
    {
      "cell_type": "markdown",
      "metadata": {
        "id": "qjg5Gt0y8Vqp"
      },
      "source": [
        "##External Data Source Validation\r\n",
        "* Making sure your data matches something outside of the dataset is very \r\n",
        "important. It allows you to ensure that the measurements are roughly in line with what they should be and it serves as a check on what other things might be wrong in your dataset. \r\n",
        "* The research from https://www.statista.com/ shows that the means, mode and medians for ages have almost the same mean, median and mode"
      ]
    },
    {
      "cell_type": "markdown",
      "metadata": {
        "id": "tajr2L2I9U0a"
      },
      "source": [
        "##Tyding Dataset"
      ]
    },
    {
      "cell_type": "code",
      "metadata": {
        "colab": {
          "base_uri": "https://localhost:8080/"
        },
        "id": "b9Sj4Hxz9cfV",
        "outputId": "20b1526d-4af4-4075-d0c6-65eb53eb78c1"
      },
      "source": [
        "#Finding how many outliers are there in the dataset\r\n",
        "Q1 = data.quantile(0.25)\r\n",
        "Q3 = data.quantile(0.75)\r\n",
        "IQR = Q3 - Q1\r\n",
        "print(IQR)\r\n",
        "print(\"*\"*100)\r\n",
        "#(data < (Q1 - 1.5 * IQR)) |(data > (Q3 + 1.5 * IQR))\r\n",
        "print(((data < (Q1 - 1.5 * IQR)) | (data > (Q3 + 1.5 * IQR))).sum().sort_values(ascending=False))\r\n",
        "\r\n",
        "#The IQR range for year is 2 years with a total of 3 years being outliers.\r\n",
        "#The IQR range for household size is 3 with a total of 377 respondents being outliers.\r\n",
        "#The IQR range for respondemts age is 241 years with a total of 3 years being outliers."
      ],
      "execution_count": 65,
      "outputs": [
        {
          "output_type": "stream",
          "text": [
            "year               2.0\n",
            "household_size     3.0\n",
            "Respondent Age    23.0\n",
            "dtype: float64\n",
            "****************************************************************************************************\n",
            "household_size            377\n",
            "Respondent Age            241\n",
            "year                        3\n",
            "uniqueid                    0\n",
            "marital_status              0\n",
            "gender_of_respondent        0\n",
            "country                     0\n",
            "Type of Location            0\n",
            "Type of Job                 0\n",
            "The relathip with head      0\n",
            "Level of Educuation         0\n",
            "Has a Bank account          0\n",
            "Cell Phone Access           0\n",
            "dtype: int64\n"
          ],
          "name": "stdout"
        }
      ]
    },
    {
      "cell_type": "code",
      "metadata": {
        "colab": {
          "base_uri": "https://localhost:8080/",
          "height": 296
        },
        "id": "Uxhc1ErTA8ad",
        "outputId": "a92e0552-b0e0-427f-aa39-b1e13d45e05d"
      },
      "source": [
        "# Checking for Outliers within columns\r\n",
        "#Checking for outliers in the column age\r\n",
        "sns.boxplot(x=data['Respondent Age'])\r\n",
        "#From output, there are a number of outliers for ages between 80 to 100"
      ],
      "execution_count": 66,
      "outputs": [
        {
          "output_type": "execute_result",
          "data": {
            "text/plain": [
              "<matplotlib.axes._subplots.AxesSubplot at 0x7fa9c7b5e950>"
            ]
          },
          "metadata": {
            "tags": []
          },
          "execution_count": 66
        },
        {
          "output_type": "display_data",
          "data": {
            "image/png": "[encoded data removed]",
            "text/plain": [
              "<Figure size 432x288 with 1 Axes>"
            ]
          },
          "metadata": {
            "tags": [],
            "needs_background": "light"
          }
        }
      ]
    },
    {
      "cell_type": "code",
      "metadata": {
        "colab": {
          "base_uri": "https://localhost:8080/",
          "height": 296
        },
        "id": "UNMRvBKb_-Dd",
        "outputId": "60f93af9-2825-48ee-e5d1-f868dd1c384d"
      },
      "source": [
        "# Checking for Outliers within columns\r\n",
        "#Checking for Outliers in the column year\r\n",
        "sns.boxplot(x=data['year'])\r\n",
        "#There are 3 points shown outside the boxplot which are our outliers"
      ],
      "execution_count": 67,
      "outputs": [
        {
          "output_type": "execute_result",
          "data": {
            "text/plain": [
              "<matplotlib.axes._subplots.AxesSubplot at 0x7fa9c7a61d90>"
            ]
          },
          "metadata": {
            "tags": []
          },
          "execution_count": 67
        },
        {
          "output_type": "display_data",
          "data": {
            "image/png": "[encoded data removed]",
            "text/plain": [
              "<Figure size 432x288 with 1 Axes>"
            ]
          },
          "metadata": {
            "tags": [],
            "needs_background": "light"
          }
        }
      ]
    },
    {
      "cell_type": "code",
      "metadata": {
        "colab": {
          "base_uri": "https://localhost:8080/"
        },
        "id": "hzLvR_1WB6aw",
        "outputId": "c555ffb1-2aee-4131-c361-855a7c294082"
      },
      "source": [
        "#Removing outliers in the year column\r\n",
        "outliers = data[data['year'] > 2018].index\r\n",
        "data.drop(outliers , inplace=True)\r\n",
        "data.shape"
      ],
      "execution_count": 68,
      "outputs": [
        {
          "output_type": "execute_result",
          "data": {
            "text/plain": [
              "(23521, 13)"
            ]
          },
          "metadata": {
            "tags": []
          },
          "execution_count": 68
        }
      ]
    },
    {
      "cell_type": "code",
      "metadata": {
        "colab": {
          "base_uri": "https://localhost:8080/",
          "height": 296
        },
        "id": "IPHIrhRaCHRZ",
        "outputId": "99dacb9d-88ca-4a91-ad88-99c2380f88de"
      },
      "source": [
        "#after removing outliers in year column\r\n",
        "sns.boxplot(x=data['year'])"
      ],
      "execution_count": 69,
      "outputs": [
        {
          "output_type": "execute_result",
          "data": {
            "text/plain": [
              "<matplotlib.axes._subplots.AxesSubplot at 0x7fa9c79a46d0>"
            ]
          },
          "metadata": {
            "tags": []
          },
          "execution_count": 69
        },
        {
          "output_type": "display_data",
          "data": {
            "image/png": "[encoded data removed]",
            "text/plain": [
              "<Figure size 432x288 with 1 Axes>"
            ]
          },
          "metadata": {
            "tags": [],
            "needs_background": "light"
          }
        }
      ]
    },
    {
      "cell_type": "code",
      "metadata": {
        "colab": {
          "base_uri": "https://localhost:8080/",
          "height": 297
        },
        "id": "qR3oJU4NC3IH",
        "outputId": "ee1a4fdd-db74-4bd3-fcfc-1fa4823dfb46"
      },
      "source": [
        "#Checking for outliers in the household size column\r\n",
        "sns.boxplot(x=data['household_size'])\r\n",
        "#From output, we can conclude that their are a few families with a household \r\n",
        "#size of between 10 and 21"
      ],
      "execution_count": 70,
      "outputs": [
        {
          "output_type": "execute_result",
          "data": {
            "text/plain": [
              "<matplotlib.axes._subplots.AxesSubplot at 0x7fa9c7986c50>"
            ]
          },
          "metadata": {
            "tags": []
          },
          "execution_count": 70
        },
        {
          "output_type": "display_data",
          "data": {
            "image/png": "[encoded data removed]",
            "text/plain": [
              "<Figure size 432x288 with 1 Axes>"
            ]
          },
          "metadata": {
            "tags": [],
            "needs_background": "light"
          }
        }
      ]
    },
    {
      "cell_type": "code",
      "metadata": {
        "colab": {
          "base_uri": "https://localhost:8080/"
        },
        "id": "hHve3ybtEHnV",
        "outputId": "2015e289-92d1-42df-8f83-1f83ad78cabc"
      },
      "source": [
        "# Checking for Anomalies\r\n",
        "data['household_size'].unique()"
      ],
      "execution_count": 71,
      "outputs": [
        {
          "output_type": "execute_result",
          "data": {
            "text/plain": [
              "array([ 3.,  5.,  8.,  7.,  1.,  6.,  4., 10.,  2., 11.,  9., 12., 16.,\n",
              "       15., 13., 14., 21., nan,  0., 18., 17., 20.])"
            ]
          },
          "metadata": {
            "tags": []
          },
          "execution_count": 71
        }
      ]
    },
    {
      "cell_type": "code",
      "metadata": {
        "colab": {
          "base_uri": "https://localhost:8080/"
        },
        "id": "lbu8TWeqERMu",
        "outputId": "d3d8358d-6d4b-4aa4-bc35-b2d5f9a33a83"
      },
      "source": [
        "# Checking for Anomalies\r\n",
        "data['Respondent Age'].unique()"
      ],
      "execution_count": 72,
      "outputs": [
        {
          "output_type": "execute_result",
          "data": {
            "text/plain": [
              "array([ 24.,  70.,  26.,  34.,  32.,  42.,  54.,  76.,  40.,  69.,  64.,\n",
              "        31.,  38.,  47.,  27.,  48.,  25.,  21.,  18.,  22.,  58.,  55.,\n",
              "        62.,  29.,  35.,  45.,  67.,  19.,  80.,  66.,  50.,  33.,  28.,\n",
              "        51.,  16.,  17.,  30.,  37.,  59.,  65.,  46.,  56.,  52.,  23.,\n",
              "        43.,  49.,  44.,  72.,  53.,  63.,  39.,  81.,  78.,  36.,  20.,\n",
              "        60.,  95.,  71.,  57.,  85.,  68.,  41.,  61.,  75.,  86.,  73.,\n",
              "        nan,  93.,  74.,  88.,  90.,  77.,  84.,  82.,  89.,  79.,  83.,\n",
              "        94.,  87.,  92.,  91.,  98.,  97.,  96.,  99., 100.])"
            ]
          },
          "metadata": {
            "tags": []
          },
          "execution_count": 72
        }
      ]
    },
    {
      "cell_type": "code",
      "metadata": {
        "colab": {
          "base_uri": "https://localhost:8080/"
        },
        "id": "QZgFYgIMEoDM",
        "outputId": "31c553cd-671d-46ea-edb7-842253039d7a"
      },
      "source": [
        "# Checking for Anomalies\r\n",
        "data['year'].unique()"
      ],
      "execution_count": 73,
      "outputs": [
        {
          "output_type": "execute_result",
          "data": {
            "text/plain": [
              "array([2018, 2016, 2017])"
            ]
          },
          "metadata": {
            "tags": []
          },
          "execution_count": 73
        }
      ]
    },
    {
      "cell_type": "code",
      "metadata": {
        "colab": {
          "base_uri": "https://localhost:8080/"
        },
        "id": "SI-qjxTGE8zP",
        "outputId": "826c6695-3eae-4a56-e21a-7fc45849b60a"
      },
      "source": [
        "#Removing the outliers/anomalies using percentile\r\n",
        "max_threshold = data['household_size'].quantile(0.95)\r\n",
        "print(max_threshold)\r\n",
        "data2 = data[data['household_size']<= max_threshold]\r\n",
        "print(data2.shape)\r\n",
        "print(data2.describe())\r\n",
        "print(data2['household_size'].unique())"
      ],
      "execution_count": 74,
      "outputs": [
        {
          "output_type": "stream",
          "text": [
            "8.0\n",
            "(22760, 13)\n",
            "               year  household_size  Respondent Age\n",
            "count  22760.000000    22760.000000    22735.000000\n",
            "mean    2016.964938        3.475264       38.902661\n",
            "std        0.842019        1.979997       16.563180\n",
            "min     2016.000000        0.000000       16.000000\n",
            "25%     2016.000000        2.000000       26.000000\n",
            "50%     2017.000000        3.000000       35.000000\n",
            "75%     2018.000000        5.000000       49.000000\n",
            "max     2018.000000        8.000000      100.000000\n",
            "[3. 5. 8. 7. 1. 6. 4. 2. 0.]\n"
          ],
          "name": "stdout"
        }
      ]
    },
    {
      "cell_type": "code",
      "metadata": {
        "colab": {
          "base_uri": "https://localhost:8080/",
          "height": 264
        },
        "id": "4EURZwdjMmLp",
        "outputId": "d1bea5ee-116a-4812-cf87-8a0f3fa28a8e"
      },
      "source": [
        "#New dataframe \r\n",
        "data2.reset_index().head(3)"
      ],
      "execution_count": 75,
      "outputs": [
        {
          "output_type": "execute_result",
          "data": {
            "text/html": [
              "<div>\n",
              "<style scoped>\n",
              "    .dataframe tbody tr th:only-of-type {\n",
              "        vertical-align: middle;\n",
              "    }\n",
              "\n",
              "    .dataframe tbody tr th {\n",
              "        vertical-align: top;\n",
              "    }\n",
              "\n",
              "    .dataframe thead th {\n",
              "        text-align: right;\n",
              "    }\n",
              "</style>\n",
              "<table border=\"1\" class=\"dataframe\">\n",
              "  <thead>\n",
              "    <tr style=\"text-align: right;\">\n",
              "      <th></th>\n",
              "      <th>index</th>\n",
              "      <th>country</th>\n",
              "      <th>year</th>\n",
              "      <th>uniqueid</th>\n",
              "      <th>Has a Bank account</th>\n",
              "      <th>Type of Location</th>\n",
              "      <th>Cell Phone Access</th>\n",
              "      <th>household_size</th>\n",
              "      <th>Respondent Age</th>\n",
              "      <th>gender_of_respondent</th>\n",
              "      <th>The relathip with head</th>\n",
              "      <th>marital_status</th>\n",
              "      <th>Level of Educuation</th>\n",
              "      <th>Type of Job</th>\n",
              "    </tr>\n",
              "  </thead>\n",
              "  <tbody>\n",
              "    <tr>\n",
              "      <th>0</th>\n",
              "      <td>0</td>\n",
              "      <td>Kenya</td>\n",
              "      <td>2018</td>\n",
              "      <td>uniqueid_1</td>\n",
              "      <td>Yes</td>\n",
              "      <td>Rural</td>\n",
              "      <td>Yes</td>\n",
              "      <td>3.0</td>\n",
              "      <td>24.0</td>\n",
              "      <td>Female</td>\n",
              "      <td>Spouse</td>\n",
              "      <td>Married/Living together</td>\n",
              "      <td>Secondary education</td>\n",
              "      <td>Self employed</td>\n",
              "    </tr>\n",
              "    <tr>\n",
              "      <th>1</th>\n",
              "      <td>1</td>\n",
              "      <td>Kenya</td>\n",
              "      <td>2018</td>\n",
              "      <td>uniqueid_2</td>\n",
              "      <td>No</td>\n",
              "      <td>Rural</td>\n",
              "      <td>No</td>\n",
              "      <td>5.0</td>\n",
              "      <td>70.0</td>\n",
              "      <td>Female</td>\n",
              "      <td>Head of Household</td>\n",
              "      <td>Widowed</td>\n",
              "      <td>No formal education</td>\n",
              "      <td>Government Dependent</td>\n",
              "    </tr>\n",
              "    <tr>\n",
              "      <th>2</th>\n",
              "      <td>2</td>\n",
              "      <td>Kenya</td>\n",
              "      <td>2018</td>\n",
              "      <td>uniqueid_3</td>\n",
              "      <td>Yes</td>\n",
              "      <td>Urban</td>\n",
              "      <td>Yes</td>\n",
              "      <td>5.0</td>\n",
              "      <td>26.0</td>\n",
              "      <td>Male</td>\n",
              "      <td>Other relative</td>\n",
              "      <td>Single/Never Married</td>\n",
              "      <td>Vocational/Specialised training</td>\n",
              "      <td>Self employed</td>\n",
              "    </tr>\n",
              "  </tbody>\n",
              "</table>\n",
              "</div>"
            ],
            "text/plain": [
              "   index country  ...              Level of Educuation           Type of Job\n",
              "0      0   Kenya  ...              Secondary education         Self employed\n",
              "1      1   Kenya  ...              No formal education  Government Dependent\n",
              "2      2   Kenya  ...  Vocational/Specialised training         Self employed\n",
              "\n",
              "[3 rows x 14 columns]"
            ]
          },
          "metadata": {
            "tags": []
          },
          "execution_count": 75
        }
      ]
    },
    {
      "cell_type": "code",
      "metadata": {
        "colab": {
          "base_uri": "https://localhost:8080/"
        },
        "id": "go6kA444NRca",
        "outputId": "08ac2e37-676b-4eb8-b101-8296db7f595d"
      },
      "source": [
        "#Changing column names\r\n",
        "data2.rename(columns={'Has a Bank account':'bank_acc',\r\n",
        "                          'Type of Location':'residence', 'Respondent Age' : 'age', 'gender_of_respondent':'gender',\r\n",
        "                          'Level of Educuation':'education', 'Type of Job': 'job'},  inplace=True)\r\n",
        "data2.columns"
      ],
      "execution_count": 76,
      "outputs": [
        {
          "output_type": "stream",
          "text": [
            "/usr/local/lib/python3.7/dist-packages/pandas/core/frame.py:4308: SettingWithCopyWarning: \n",
            "A value is trying to be set on a copy of a slice from a DataFrame\n",
            "\n",
            "See the caveats in the documentation: https://pandas.pydata.org/pandas-docs/stable/user_guide/indexing.html#returning-a-view-versus-a-copy\n",
            "  errors=errors,\n"
          ],
          "name": "stderr"
        },
        {
          "output_type": "execute_result",
          "data": {
            "text/plain": [
              "Index(['country', 'year', 'uniqueid', 'bank_acc', 'residence',\n",
              "       'Cell Phone Access', 'household_size', 'age', 'gender',\n",
              "       'The relathip with head', 'marital_status', 'education', 'job'],\n",
              "      dtype='object')"
            ]
          },
          "metadata": {
            "tags": []
          },
          "execution_count": 76
        }
      ]
    },
    {
      "cell_type": "code",
      "metadata": {
        "colab": {
          "base_uri": "https://localhost:8080/"
        },
        "id": "4LXAH7fONpxu",
        "outputId": "4b23f59e-e578-4caa-c615-3f17678c7bab"
      },
      "source": [
        "#Dropping unnecessary columns\r\n",
        "data2 = data2.drop(['uniqueid', 'Cell Phone Access', 'The relathip with head', 'marital_status'], axis = 1)\r\n",
        "print(data2.columns)"
      ],
      "execution_count": 77,
      "outputs": [
        {
          "output_type": "stream",
          "text": [
            "Index(['country', 'year', 'bank_acc', 'residence', 'household_size', 'age',\n",
            "       'gender', 'education', 'job'],\n",
            "      dtype='object')\n"
          ],
          "name": "stdout"
        }
      ]
    },
    {
      "cell_type": "code",
      "metadata": {
        "colab": {
          "base_uri": "https://localhost:8080/"
        },
        "id": "XFLUgwyGOHUH",
        "outputId": "a439d0b9-8207-4d3b-865e-974002f1fb75"
      },
      "source": [
        "# Identifying the Missing Data\r\n",
        "#\r\n",
        "data2.isnull().sum()"
      ],
      "execution_count": 78,
      "outputs": [
        {
          "output_type": "execute_result",
          "data": {
            "text/plain": [
              "country           14\n",
              "year               0\n",
              "bank_acc          36\n",
              "residence         15\n",
              "household_size     0\n",
              "age               25\n",
              "gender            29\n",
              "education         28\n",
              "job               29\n",
              "dtype: int64"
            ]
          },
          "metadata": {
            "tags": []
          },
          "execution_count": 78
        }
      ]
    },
    {
      "cell_type": "code",
      "metadata": {
        "colab": {
          "base_uri": "https://localhost:8080/"
        },
        "id": "UqD9JSu5OK1_",
        "outputId": "98d26085-fb5f-485d-b23f-dd77fc142e26"
      },
      "source": [
        "# Dealing with the Missing Data\r\n",
        "#Removing all rows where having a bank account is null\r\n",
        "data3 = data2[data2['bank_acc'].notna()] \r\n",
        "data3.shape\r\n",
        "data3 = data3.reset_index(drop = True) \r\n",
        "#Drop all columns where value is NaN\r\n",
        "data3 = data3[data3['gender'].notna()] \r\n",
        "print(data3.shape)\r\n",
        "#data3.isnull().sum()\r\n",
        "data_df = data3.dropna(axis=0, inplace=False)\r\n",
        "data_df.isnull().sum()"
      ],
      "execution_count": 79,
      "outputs": [
        {
          "output_type": "stream",
          "text": [
            "(22695, 9)\n"
          ],
          "name": "stdout"
        },
        {
          "output_type": "execute_result",
          "data": {
            "text/plain": [
              "country           0\n",
              "year              0\n",
              "bank_acc          0\n",
              "residence         0\n",
              "household_size    0\n",
              "age               0\n",
              "gender            0\n",
              "education         0\n",
              "job               0\n",
              "dtype: int64"
            ]
          },
          "metadata": {
            "tags": []
          },
          "execution_count": 79
        }
      ]
    },
    {
      "cell_type": "code",
      "metadata": {
        "colab": {
          "base_uri": "https://localhost:8080/"
        },
        "id": "OWzJgYidP_sR",
        "outputId": "edeb6d37-dace-4540-e219-ff3f80bf901e"
      },
      "source": [
        "#Check for duplicates \r\n",
        "data_df = data_df.drop_duplicates(inplace=False)\r\n",
        "data_df.shape"
      ],
      "execution_count": 80,
      "outputs": [
        {
          "output_type": "execute_result",
          "data": {
            "text/plain": [
              "(14834, 9)"
            ]
          },
          "metadata": {
            "tags": []
          },
          "execution_count": 80
        }
      ]
    },
    {
      "cell_type": "markdown",
      "metadata": {
        "id": "SXwvnILXTT1A"
      },
      "source": [
        "##Exploratory Analysis"
      ]
    },
    {
      "cell_type": "markdown",
      "metadata": {
        "id": "X3PGaVFHTd9U"
      },
      "source": [
        "Univariate Analysis: We will be dealing with numerical variables and we will be checking the following properties:\r\n",
        "\r\n",
        "Mean, Median, Standard Deviation, Kurtosis and skewness distribution/range."
      ]
    },
    {
      "cell_type": "code",
      "metadata": {
        "colab": {
          "base_uri": "https://localhost:8080/"
        },
        "id": "xt6vneCja2jE",
        "outputId": "c57f54ad-e2a3-4517-fc7e-dcb2ec06b9ab"
      },
      "source": [
        "#central tendency of age\r\n",
        "print(data_df['age'].mean())\r\n",
        "print(data_df['age'].mode())\r\n",
        "print(data_df['age'].median())"
      ],
      "execution_count": 81,
      "outputs": [
        {
          "output_type": "stream",
          "text": [
            "40.24565188081434\n",
            "0    30.0\n",
            "dtype: float64\n",
            "36.0\n"
          ],
          "name": "stdout"
        }
      ]
    },
    {
      "cell_type": "code",
      "metadata": {
        "colab": {
          "base_uri": "https://localhost:8080/"
        },
        "id": "-dskGaZ2bfjZ",
        "outputId": "83d6ed6f-01b5-4267-8e59-98bca8115ba2"
      },
      "source": [
        "#measures of dispersion of age\r\n",
        "print(data_df['age'].std())\r\n",
        "print(data_df['age'].var())\r\n",
        "\r\n",
        "print(data_df['age'].skew())\r\n",
        "print(data_df['age'].kurt())\r\n",
        "#The graph for age of respodents is left skewed and flat peaked."
      ],
      "execution_count": 82,
      "outputs": [
        {
          "output_type": "stream",
          "text": [
            "17.44350676626926\n",
            "304.27592830488146\n",
            "0.7500085046671529\n",
            "-0.15922222129866714\n"
          ],
          "name": "stdout"
        }
      ]
    },
    {
      "cell_type": "code",
      "metadata": {
        "id": "0BPBepAGWY0m"
      },
      "source": [
        "mean_householdsize = data_df['household_size'].mean()\r\n",
        "\r\n",
        "data_df['household_size']=data_df.household_size.mask(data_df.household_size == 0,mean_householdsize)"
      ],
      "execution_count": 83,
      "outputs": []
    },
    {
      "cell_type": "code",
      "metadata": {
        "colab": {
          "base_uri": "https://localhost:8080/"
        },
        "id": "CHhxHZK2cZ2q",
        "outputId": "c2f621a6-5c73-4795-aadb-3bb1da76fd25"
      },
      "source": [
        "#central tendency of house hold\r\n",
        "print(data_df['household_size'].mean())\r\n",
        "print(data_df['household_size'].mode())\r\n",
        "print(data_df['household_size'].median())"
      ],
      "execution_count": 84,
      "outputs": [
        {
          "output_type": "stream",
          "text": [
            "3.6161296515376966\n",
            "0    2.0\n",
            "dtype: float64\n",
            "3.0\n"
          ],
          "name": "stdout"
        }
      ]
    },
    {
      "cell_type": "code",
      "metadata": {
        "colab": {
          "base_uri": "https://localhost:8080/"
        },
        "id": "T73qUIttdF2Z",
        "outputId": "72f0d104-caac-4a95-d94c-2a1d61eac402"
      },
      "source": [
        "#measures of dispersion of household_size\r\n",
        "print(data_df['household_size'].std())\r\n",
        "print(data_df['household_size'].var())\r\n",
        "\r\n",
        "print(data_df['household_size'].kurt())\r\n",
        "print(data_df['household_size'].skew())"
      ],
      "execution_count": 85,
      "outputs": [
        {
          "output_type": "stream",
          "text": [
            "2.039625370324233\n",
            "4.160071651270265\n",
            "-0.8339112415261969\n",
            "0.4442416815286623\n"
          ],
          "name": "stdout"
        }
      ]
    },
    {
      "cell_type": "code",
      "metadata": {
        "colab": {
          "base_uri": "https://localhost:8080/"
        },
        "id": "LP89sod7XGxX",
        "outputId": "a2b38351-f58b-47b8-904e-181bc31c1a08"
      },
      "source": [
        "#Get min, max and range\r\n",
        "#for age\r\n",
        "min_age = data_df['age'].min()\r\n",
        "print('minimum age',min_age)\r\n",
        "max_age = data_df['age'].max()\r\n",
        "print('maximum age',max_age)\r\n",
        "range_age = max_age - min_age\r\n",
        "print('Age Range',range_age)\r\n",
        "#For household size\r\n",
        "min_size = data_df['household_size'].min()\r\n",
        "print('minimum household',min_size)\r\n",
        "max_size = data_df['household_size'].max()\r\n",
        "print('maximum household',max_size)\r\n",
        "range_size = max_size - min_size\r\n",
        "print('Household Range',range_size)"
      ],
      "execution_count": 86,
      "outputs": [
        {
          "output_type": "stream",
          "text": [
            "minimum age 16.0\n",
            "maximum age 100.0\n",
            "Age Range 84.0\n",
            "minimum household 1.0\n",
            "maximum household 8.0\n",
            "Household Range 7.0\n"
          ],
          "name": "stdout"
        }
      ]
    },
    {
      "cell_type": "code",
      "metadata": {
        "colab": {
          "base_uri": "https://localhost:8080/"
        },
        "id": "U2uaiziwYb2j",
        "outputId": "b611274b-3a16-4b9e-a1a9-7dfa472f5e80"
      },
      "source": [
        "#Calculate quantiles\r\n",
        "quantile_age = data_df[\"age\"].quantile([0.25,0.5,0.75])\r\n",
        "print(quantile_age)\r\n",
        "quantile_size = data_df[\"household_size\"].quantile([0.25,0.5,0.75])\r\n",
        "print(quantile_size)"
      ],
      "execution_count": 87,
      "outputs": [
        {
          "output_type": "stream",
          "text": [
            "0.25    26.0\n",
            "0.50    36.0\n",
            "0.75    52.0\n",
            "Name: age, dtype: float64\n",
            "0.25    2.0\n",
            "0.50    3.0\n",
            "0.75    5.0\n",
            "Name: household_size, dtype: float64\n"
          ],
          "name": "stdout"
        }
      ]
    },
    {
      "cell_type": "code",
      "metadata": {
        "colab": {
          "base_uri": "https://localhost:8080/"
        },
        "id": "sLJA_H93ZSvW",
        "outputId": "d7e2189c-adca-4d60-e328-d6f07fcecd94"
      },
      "source": [
        "data_df.country.value_counts()"
      ],
      "execution_count": 88,
      "outputs": [
        {
          "output_type": "execute_result",
          "data": {
            "text/plain": [
              "Rwanda      5069\n",
              "Kenya       4819\n",
              "Tanzania    3375\n",
              "Uganda      1571\n",
              "Name: country, dtype: int64"
            ]
          },
          "metadata": {
            "tags": []
          },
          "execution_count": 88
        }
      ]
    },
    {
      "cell_type": "code",
      "metadata": {
        "colab": {
          "base_uri": "https://localhost:8080/",
          "height": 328
        },
        "id": "BjrMXTiqe-f6",
        "outputId": "3718ab1a-0ac1-4c9f-878b-2b8885b42ee6"
      },
      "source": [
        "#Plotting histograms\r\n",
        "data_df['year'].value_counts().head().plot.bar()\r\n",
        "plt.xlabel(\"Year\")\r\n",
        "plt.ylabel(\"Number of people\")\r\n",
        "plt.title(\"Number of people who participated in survey each year\")"
      ],
      "execution_count": 89,
      "outputs": [
        {
          "output_type": "execute_result",
          "data": {
            "text/plain": [
              "Text(0.5, 1.0, 'Number of people who participated in survey each year')"
            ]
          },
          "metadata": {
            "tags": []
          },
          "execution_count": 89
        },
        {
          "output_type": "display_data",
          "data": {
            "image/png": "[encoded data removed]",
            "text/plain": [
              "<Figure size 432x288 with 1 Axes>"
            ]
          },
          "metadata": {
            "tags": [],
            "needs_background": "light"
          }
        }
      ]
    },
    {
      "cell_type": "code",
      "metadata": {
        "colab": {
          "base_uri": "https://localhost:8080/",
          "height": 328
        },
        "id": "3EJYI4Z_gmmI",
        "outputId": "16cf544b-6afd-4130-af40-22b7966f8ffb"
      },
      "source": [
        "#Percentage of people who participated in survey each year\r\n",
        "(data_df['year'].value_counts().head(10) / len(data_df)).plot.bar()\r\n",
        "plt.xlabel(\"Year\")\r\n",
        "plt.ylabel(\"percentage of people\")\r\n",
        "plt.title(\"Percentage of people who participated in survey each year\")"
      ],
      "execution_count": 93,
      "outputs": [
        {
          "output_type": "execute_result",
          "data": {
            "text/plain": [
              "Text(0.5, 1.0, 'Percentage of people who participated in survey each year')"
            ]
          },
          "metadata": {
            "tags": []
          },
          "execution_count": 93
        },
        {
          "output_type": "display_data",
          "data": {
            "image/png": "[encoded data removed]",
            "text/plain": [
              "<Figure size 432x288 with 1 Axes>"
            ]
          },
          "metadata": {
            "tags": [],
            "needs_background": "light"
          }
        }
      ]
    },
    {
      "cell_type": "code",
      "metadata": {
        "colab": {
          "base_uri": "https://localhost:8080/",
          "height": 346
        },
        "id": "H9nu6s9zhA_F",
        "outputId": "db4efef0-2797-4321-b408-e145f6e358f2"
      },
      "source": [
        "#Number of people who participated in survey each country\r\n",
        "data_df['country'].value_counts().head().plot.bar()\r\n",
        "plt.xlabel(\"country\")\r\n",
        "plt.ylabel(\"Number of people\")\r\n",
        "plt.title(\"Number of people who participated in survey each country\")"
      ],
      "execution_count": 92,
      "outputs": [
        {
          "output_type": "execute_result",
          "data": {
            "text/plain": [
              "Text(0.5, 1.0, 'Number of people who participated in survey each country')"
            ]
          },
          "metadata": {
            "tags": []
          },
          "execution_count": 92
        },
        {
          "output_type": "display_data",
          "data": {
            "image/png": "[encoded data removed]",
            "text/plain": [
              "<Figure size 432x288 with 1 Axes>"
            ]
          },
          "metadata": {
            "tags": [],
            "needs_background": "light"
          }
        }
      ]
    },
    {
      "cell_type": "code",
      "metadata": {
        "colab": {
          "base_uri": "https://localhost:8080/",
          "height": 269
        },
        "id": "bGvFonOMiGEZ",
        "outputId": "ba0fb6ad-8441-49a9-f804-94a21ff66d8f"
      },
      "source": [
        "#pie chart for countries\r\n",
        "data_df.country.value_counts().plot(kind='pie',autopct='%1.1f%%', shadow = True, startangle = 90 )\r\n",
        "plt.axis('equal')\r\n",
        "plt.title('Pie chart of percentage respondents per country')\r\n",
        "plt.show()\r\n",
        "#We can conclude that Rwanda has the highest number of respondents in this study\r\n",
        "#at 34.2% and Uganda the lowest at 10.6%"
      ],
      "execution_count": 94,
      "outputs": [
        {
          "output_type": "display_data",
          "data": {
            "image/png": "[encoded data removed]",
            "text/plain": [
              "<Figure size 432x288 with 1 Axes>"
            ]
          },
          "metadata": {
            "tags": []
          }
        }
      ]
    },
    {
      "cell_type": "code",
      "metadata": {
        "colab": {
          "base_uri": "https://localhost:8080/"
        },
        "id": "H4KpYh3NiQq2",
        "outputId": "3f5cbc9e-cbc7-43c5-a340-71ebf82b41f6"
      },
      "source": [
        "data_df.gender.value_counts()"
      ],
      "execution_count": 95,
      "outputs": [
        {
          "output_type": "execute_result",
          "data": {
            "text/plain": [
              "Female    8434\n",
              "Male      6400\n",
              "Name: gender, dtype: int64"
            ]
          },
          "metadata": {
            "tags": []
          },
          "execution_count": 95
        }
      ]
    },
    {
      "cell_type": "code",
      "metadata": {
        "colab": {
          "base_uri": "https://localhost:8080/",
          "height": 308
        },
        "id": "6BbwThW0jldz",
        "outputId": "f171e979-4187-4e4e-b7d8-ed2ead8abf2a"
      },
      "source": [
        "#The distribution of the gender of the respodents\r\n",
        "data_df[\"gender\"].value_counts().head().plot.bar()"
      ],
      "execution_count": 97,
      "outputs": [
        {
          "output_type": "execute_result",
          "data": {
            "text/plain": [
              "<matplotlib.axes._subplots.AxesSubplot at 0x7fa9c75db210>"
            ]
          },
          "metadata": {
            "tags": []
          },
          "execution_count": 97
        },
        {
          "output_type": "display_data",
          "data": {
            "image/png": "[encoded data removed]",
            "text/plain": [
              "<Figure size 432x288 with 1 Axes>"
            ]
          },
          "metadata": {
            "tags": [],
            "needs_background": "light"
          }
        }
      ]
    },
    {
      "cell_type": "code",
      "metadata": {
        "colab": {
          "base_uri": "https://localhost:8080/",
          "height": 303
        },
        "id": "m7qc37yLjNjo",
        "outputId": "105df9cb-2801-4d70-a83e-57b172912b9c"
      },
      "source": [
        "#Type of location participants came from.\r\n",
        "data_df[\"residence\"].value_counts().head().plot.bar()"
      ],
      "execution_count": 96,
      "outputs": [
        {
          "output_type": "execute_result",
          "data": {
            "text/plain": [
              "<matplotlib.axes._subplots.AxesSubplot at 0x7fa9c76686d0>"
            ]
          },
          "metadata": {
            "tags": []
          },
          "execution_count": 96
        },
        {
          "output_type": "display_data",
          "data": {
            "image/png": "[encoded data removed]",
            "text/plain": [
              "<Figure size 432x288 with 1 Axes>"
            ]
          },
          "metadata": {
            "tags": [],
            "needs_background": "light"
          }
        }
      ]
    },
    {
      "cell_type": "code",
      "metadata": {
        "colab": {
          "base_uri": "https://localhost:8080/",
          "height": 351
        },
        "id": "_Qgj_LHakGLY",
        "outputId": "161c35b6-9f40-4d89-a5af-0176a49a9c92"
      },
      "source": [
        "sns.boxplot(data_df[\"household_size\"], showmeans=True)"
      ],
      "execution_count": 98,
      "outputs": [
        {
          "output_type": "stream",
          "text": [
            "/usr/local/lib/python3.7/dist-packages/seaborn/_decorators.py:43: FutureWarning: Pass the following variable as a keyword arg: x. From version 0.12, the only valid positional argument will be `data`, and passing other arguments without an explicit keyword will result in an error or misinterpretation.\n",
            "  FutureWarning\n"
          ],
          "name": "stderr"
        },
        {
          "output_type": "execute_result",
          "data": {
            "text/plain": [
              "<matplotlib.axes._subplots.AxesSubplot at 0x7fa9c75c33d0>"
            ]
          },
          "metadata": {
            "tags": []
          },
          "execution_count": 98
        },
        {
          "output_type": "display_data",
          "data": {
            "image/png": "[encoded data removed]",
            "text/plain": [
              "<Figure size 432x288 with 1 Axes>"
            ]
          },
          "metadata": {
            "tags": [],
            "needs_background": "light"
          }
        }
      ]
    },
    {
      "cell_type": "code",
      "metadata": {
        "colab": {
          "base_uri": "https://localhost:8080/",
          "height": 315
        },
        "id": "tg4oyLOukMvT",
        "outputId": "9b9ea85b-42f1-4848-9f02-108b39f58d88"
      },
      "source": [
        "#How many people have a bank account?\r\n",
        "print(data_df['bank_acc'].value_counts())\r\n",
        "data_df[\"bank_acc\"].value_counts()\r\n",
        "data_df[\"bank_acc\"].value_counts().head().plot.pie()\r\n",
        "\r\n",
        "plt.axis('equal')\r\n",
        "plt.title('Pie Chart of bank_acc')\r\n",
        "plt.show()"
      ],
      "execution_count": 100,
      "outputs": [
        {
          "output_type": "stream",
          "text": [
            "No     11851\n",
            "Yes     2983\n",
            "Name: bank_acc, dtype: int64\n"
          ],
          "name": "stdout"
        },
        {
          "output_type": "display_data",
          "data": {
            "image/png": "[encoded data removed]",
            "text/plain": [
              "<Figure size 432x288 with 1 Axes>"
            ]
          },
          "metadata": {
            "tags": []
          }
        }
      ]
    },
    {
      "cell_type": "code",
      "metadata": {
        "colab": {
          "base_uri": "https://localhost:8080/",
          "height": 295
        },
        "id": "CdLkuLHRm61x",
        "outputId": "ebaaf4d9-d3e1-40d7-91c9-9f4e8914fdb0"
      },
      "source": [
        "#Plotting a age histogram\r\n",
        "age_points = data_df['age']\r\n",
        "\r\n",
        "plt.hist(age_points, bins=10, histtype='bar', rwidth=0.9)\r\n",
        "plt.xlabel('Ages')\r\n",
        "plt.ylabel('Frequency')\r\n",
        "plt.title('Histogram of age vs frequency')\r\n",
        "plt.show()\r\n",
        "#We can conclude that the greater population in the dataset is between the ages\r\n",
        "# of 25 and 30."
      ],
      "execution_count": 101,
      "outputs": [
        {
          "output_type": "display_data",
          "data": {
            "image/png": "[encoded data removed]",
            "text/plain": [
              "<Figure size 432x288 with 1 Axes>"
            ]
          },
          "metadata": {
            "tags": [],
            "needs_background": "light"
          }
        }
      ]
    },
    {
      "cell_type": "code",
      "metadata": {
        "colab": {
          "base_uri": "https://localhost:8080/",
          "height": 295
        },
        "id": "gl2rMOB8m_IL",
        "outputId": "b7a1b0b8-10c3-4c19-a1d5-fcf7a15d86ff"
      },
      "source": [
        "#Plotting a age histogram\r\n",
        "size_points = data_df['household_size']\r\n",
        "\r\n",
        "plt.hist(size_points, bins=8, histtype='bar', rwidth=0.9)\r\n",
        "plt.xlabel('Household sizes')\r\n",
        "plt.ylabel('Frequency')\r\n",
        "plt.title('Histogram of Household_sizes vs frequency')\r\n",
        "plt.show()\r\n",
        "#We can conclude that the greater population in the dataset has a household size\r\n",
        "#of between 2 to 3"
      ],
      "execution_count": 102,
      "outputs": [
        {
          "output_type": "display_data",
          "data": {
            "image/png": "[encoded data removed]",
            "text/plain": [
              "<Figure size 432x288 with 1 Axes>"
            ]
          },
          "metadata": {
            "tags": [],
            "needs_background": "light"
          }
        }
      ]
    },
    {
      "cell_type": "code",
      "metadata": {
        "colab": {
          "base_uri": "https://localhost:8080/"
        },
        "id": "KyHq0zPcn4p9",
        "outputId": "f70ba904-1982-4d34-f694-5249f5525555"
      },
      "source": [
        "data_df['job'].value_counts()"
      ],
      "execution_count": 103,
      "outputs": [
        {
          "output_type": "execute_result",
          "data": {
            "text/plain": [
              "Self employed                   3569\n",
              "Informally employed             3342\n",
              "Farming and Fishing             3050\n",
              "Remittance Dependent            1823\n",
              "Formally employed Private        942\n",
              "Other Income                     933\n",
              "No Income                        467\n",
              "Formally employed Government     363\n",
              "Government Dependent             227\n",
              "Dont Know/Refuse to answer       118\n",
              "Name: job, dtype: int64"
            ]
          },
          "metadata": {
            "tags": []
          },
          "execution_count": 103
        }
      ]
    },
    {
      "cell_type": "code",
      "metadata": {
        "colab": {
          "base_uri": "https://localhost:8080/"
        },
        "id": "0RsSy76yoCaz",
        "outputId": "094d6338-9abc-4951-bba0-8d1a1da8fc3e"
      },
      "source": [
        "data_df['education'].value_counts()"
      ],
      "execution_count": 105,
      "outputs": [
        {
          "output_type": "execute_result",
          "data": {
            "text/plain": [
              "Primary education                  6764\n",
              "Secondary education                3314\n",
              "No formal education                2997\n",
              "Tertiary education                  990\n",
              "Vocational/Specialised training     737\n",
              "6                                    25\n",
              "Other/Dont know/RTA                   7\n",
              "Name: education, dtype: int64"
            ]
          },
          "metadata": {
            "tags": []
          },
          "execution_count": 105
        }
      ]
    },
    {
      "cell_type": "markdown",
      "metadata": {
        "id": "BxFkv7z3ozJ4"
      },
      "source": [
        "##Summary\r\n",
        "1.  Rwanda has the highest number of respondents in this study at 34.2% and Uganda the lowest at 10.6%\r\n",
        "2. Greater population in the datasets analysis are between the ages of 25 and 30.\r\n",
        "3. Most of the people with a bank account are from Rwanda.\r\n",
        "4. Most partciapants did not have a cell bank account\r\n",
        "5. Most participants were female recording 8434 while males were 6400.\r\n",
        "6. Majority of participants are from rural than urban\r\n",
        "7. Percentage of people who participated in survey 2018 recorded the highest participants.\r\n",
        "8. Most respondents have a household size of between 1 and 2"
      ]
    },
    {
      "cell_type": "markdown",
      "metadata": {
        "id": "9l7wgum-rvwR"
      },
      "source": [
        "#b. Bivariate Analysis"
      ]
    },
    {
      "cell_type": "code",
      "metadata": {
        "colab": {
          "base_uri": "https://localhost:8080/"
        },
        "id": "7ZBxP1Fio4o7",
        "outputId": "dda21989-4426-4265-cd75-d801d97ada4b"
      },
      "source": [
        "#Bivariate analysis, check relationships and differences between two variables.\r\n",
        "#We will start with Numeric-Numeric variables, then Categorical-Categorical and lastly Categorical-Numeric variables\r\n",
        "\r\n",
        "#Checking for numeric variables in our data\r\n",
        "#isolating numerical datatypes\r\n",
        "numerical = data_df.select_dtypes(include=['int64','float64','Int64'])[:]\r\n",
        "numerical.dtypes"
      ],
      "execution_count": 106,
      "outputs": [
        {
          "output_type": "execute_result",
          "data": {
            "text/plain": [
              "year                int64\n",
              "household_size    float64\n",
              "age               float64\n",
              "dtype: object"
            ]
          },
          "metadata": {
            "tags": []
          },
          "execution_count": 106
        }
      ]
    },
    {
      "cell_type": "code",
      "metadata": {
        "colab": {
          "base_uri": "https://localhost:8080/",
          "height": 142
        },
        "id": "HAHc-Or2s9d0",
        "outputId": "eca59fea-29c3-446f-8985-6cc8a651352d"
      },
      "source": [
        "#Calculating correlation\r\n",
        "correlation = numerical.dropna().corr()\r\n",
        "correlation"
      ],
      "execution_count": 107,
      "outputs": [
        {
          "output_type": "execute_result",
          "data": {
            "text/html": [
              "<div>\n",
              "<style scoped>\n",
              "    .dataframe tbody tr th:only-of-type {\n",
              "        vertical-align: middle;\n",
              "    }\n",
              "\n",
              "    .dataframe tbody tr th {\n",
              "        vertical-align: top;\n",
              "    }\n",
              "\n",
              "    .dataframe thead th {\n",
              "        text-align: right;\n",
              "    }\n",
              "</style>\n",
              "<table border=\"1\" class=\"dataframe\">\n",
              "  <thead>\n",
              "    <tr style=\"text-align: right;\">\n",
              "      <th></th>\n",
              "      <th>year</th>\n",
              "      <th>household_size</th>\n",
              "      <th>age</th>\n",
              "    </tr>\n",
              "  </thead>\n",
              "  <tbody>\n",
              "    <tr>\n",
              "      <th>year</th>\n",
              "      <td>1.000000</td>\n",
              "      <td>-0.088375</td>\n",
              "      <td>-0.034482</td>\n",
              "    </tr>\n",
              "    <tr>\n",
              "      <th>household_size</th>\n",
              "      <td>-0.088375</td>\n",
              "      <td>1.000000</td>\n",
              "      <td>-0.127624</td>\n",
              "    </tr>\n",
              "    <tr>\n",
              "      <th>age</th>\n",
              "      <td>-0.034482</td>\n",
              "      <td>-0.127624</td>\n",
              "      <td>1.000000</td>\n",
              "    </tr>\n",
              "  </tbody>\n",
              "</table>\n",
              "</div>"
            ],
            "text/plain": [
              "                    year  household_size       age\n",
              "year            1.000000       -0.088375 -0.034482\n",
              "household_size -0.088375        1.000000 -0.127624\n",
              "age            -0.034482       -0.127624  1.000000"
            ]
          },
          "metadata": {
            "tags": []
          },
          "execution_count": 107
        }
      ]
    },
    {
      "cell_type": "code",
      "metadata": {
        "colab": {
          "base_uri": "https://localhost:8080/",
          "height": 287
        },
        "id": "2vf5GZIWtMFq",
        "outputId": "4fd3abcb-fa4b-473f-8cb2-1d8f825adac3"
      },
      "source": [
        "#plotting a correlation heatmap\r\n",
        "sns.heatmap(correlation, xticklabels=correlation.columns, yticklabels=correlation.columns, annot=True)\r\n",
        "#There is basically no correlation between household size and age of respondents"
      ],
      "execution_count": 108,
      "outputs": [
        {
          "output_type": "execute_result",
          "data": {
            "text/plain": [
              "<matplotlib.axes._subplots.AxesSubplot at 0x7fa9c75bf5d0>"
            ]
          },
          "metadata": {
            "tags": []
          },
          "execution_count": 108
        },
        {
          "output_type": "display_data",
          "data": {
            "image/png": "[encoded data removed]",
            "text/plain": [
              "<Figure size 432x288 with 2 Axes>"
            ]
          },
          "metadata": {
            "tags": [],
            "needs_background": "light"
          }
        }
      ]
    },
    {
      "cell_type": "code",
      "metadata": {
        "colab": {
          "base_uri": "https://localhost:8080/",
          "height": 296
        },
        "id": "NxCFaavWta1k",
        "outputId": "bffd8ecc-8506-46c3-e3d3-c8845211e379"
      },
      "source": [
        "#Plotting scatter plots\r\n",
        "plt.scatter(numerical[\"household_size\"] , data_df[\"age\"])\r\n",
        "\r\n",
        "# Giving our scatterplot a title\r\n",
        "plt.title('Household size vs Age')\r\n",
        "\r\n",
        "# Labelling our x axis\r\n",
        "plt.xlabel('Household_size')\r\n",
        "\r\n",
        "# Labelling our y axis\r\n",
        "plt.ylabel('Age')\r\n",
        "\r\n",
        "# We then display our scatterplot as shown below\r\n",
        "plt.grid()\r\n",
        "plt.show()"
      ],
      "execution_count": 109,
      "outputs": [
        {
          "output_type": "display_data",
          "data": {
            "image/png": "[encoded data removed]",
            "text/plain": [
              "<Figure size 432x288 with 1 Axes>"
            ]
          },
          "metadata": {
            "tags": [],
            "needs_background": "light"
          }
        }
      ]
    },
    {
      "cell_type": "code",
      "metadata": {
        "colab": {
          "base_uri": "https://localhost:8080/",
          "height": 347
        },
        "id": "-Q7BNMSzuOpk",
        "outputId": "2e668957-1ad3-4b20-b107-ba4229622c42"
      },
      "source": [
        "#Which gender is most likely to own a bank account\r\n",
        "ax1 = data_df.groupby('bank_acc')['gender'].value_counts(normalize=True).unstack()\r\n",
        "ax1.plot(kind='bar', stacked='True',title=str(ax1))\r\n",
        "int_level = data_df['bank_acc'].value_counts()\r\n",
        "#From output, we can conclude \r\n",
        "#the difference between the males and females who own a bank account is \r\n",
        "#significant. The number of Males who own a bank account is significantly more \r\n",
        "#than females."
      ],
      "execution_count": 112,
      "outputs": [
        {
          "output_type": "display_data",
          "data": {
            "image/png": "[encoded data removed]",
            "text/plain": [
              "<Figure size 432x288 with 1 Axes>"
            ]
          },
          "metadata": {
            "tags": [],
            "needs_background": "light"
          }
        }
      ]
    },
    {
      "cell_type": "code",
      "metadata": {
        "colab": {
          "base_uri": "https://localhost:8080/",
          "height": 326
        },
        "id": "9zDm7jtOuxs4",
        "outputId": "45a267db-6343-416a-f84d-94058a964fea"
      },
      "source": [
        "#People from which kind of jobs are most likely to own a bank account\r\n",
        "ax2 = data_df.groupby('bank_acc')['job'].value_counts(normalize=True).unstack()\r\n",
        "ax2.plot(kind='hist', stacked='True',title=str(ax1))\r\n",
        "int_level = data_df['bank_acc'].value_counts()\r\n",
        "#From output, we can conclude \r\n",
        "#Individuals who are self employed are most likely to have a bank account and\r\n",
        "# those who are informally employed are less likely to have a bank account"
      ],
      "execution_count": 113,
      "outputs": [
        {
          "output_type": "display_data",
          "data": {
            "image/png": "[encoded data removed]",
            "text/plain": [
              "<Figure size 432x288 with 1 Axes>"
            ]
          },
          "metadata": {
            "tags": [],
            "needs_background": "light"
          }
        }
      ]
    },
    {
      "cell_type": "code",
      "metadata": {
        "colab": {
          "base_uri": "https://localhost:8080/",
          "height": 347
        },
        "id": "1syWBcgevPeM",
        "outputId": "e81443a4-171d-4312-bd08-f542df821e0a"
      },
      "source": [
        "#People from which kind of residence are most likely to own a bank account\r\n",
        "ax3 = data_df.groupby('bank_acc')['residence'].value_counts(normalize=True).unstack()\r\n",
        "ax3.plot(kind='bar', stacked='True',title=str(ax1))\r\n",
        "int_level = data_df['bank_acc'].value_counts()\r\n",
        "#From output, we can conclude \r\n",
        "#Individuals from urban setup are most likely to have a bank account and\r\n",
        "# those from rural areas are less likely to have a bank account"
      ],
      "execution_count": 114,
      "outputs": [
        {
          "output_type": "display_data",
          "data": {
            "image/png": "[encoded data removed]",
            "text/plain": [
              "<Figure size 432x288 with 1 Axes>"
            ]
          },
          "metadata": {
            "tags": [],
            "needs_background": "light"
          }
        }
      ]
    },
    {
      "cell_type": "code",
      "metadata": {
        "colab": {
          "base_uri": "https://localhost:8080/",
          "height": 326
        },
        "id": "xEzKpWSEvUGb",
        "outputId": "f41ea292-4b52-41fe-d1b6-fa4879825e77"
      },
      "source": [
        "#Check whether people who are educated are most likely to own a bank account\r\n",
        "ax4 = data_df.groupby('bank_acc')['education'].value_counts(normalize=True).unstack()\r\n",
        "ax4.plot(kind='hist', stacked='True',title=str(ax1))\r\n",
        "int_level = data_df['bank_acc'].value_counts()\r\n",
        "#From output, we can conclude \r\n",
        "#Individuals with a secondary education are most likely to have a bank account and\r\n",
        "# those with a primary level education are less likely to have a bank account"
      ],
      "execution_count": 116,
      "outputs": [
        {
          "output_type": "display_data",
          "data": {
            "image/png": "[encoded data removed]",
            "text/plain": [
              "<Figure size 432x288 with 1 Axes>"
            ]
          },
          "metadata": {
            "tags": [],
            "needs_background": "light"
          }
        }
      ]
    },
    {
      "cell_type": "code",
      "metadata": {
        "colab": {
          "base_uri": "https://localhost:8080/",
          "height": 347
        },
        "id": "X1oILZ8Kv8wc",
        "outputId": "6017fef0-aa14-4bab-d564-1197dec57aee"
      },
      "source": [
        "#Household size groups\r\n",
        "\r\n",
        "bins= [1,2,4,6,8]\r\n",
        "labels = ['Small','Medium','Large','Very large']\r\n",
        "data_df['size'] = pd.cut(data_df['household_size'], bins=bins, labels=labels, right=False)\r\n",
        "data_df\r\n",
        "#People from which AgeGroup are most likely to own a bank account\r\n",
        "ax7 = data_df.groupby('bank_acc')['size'].value_counts(normalize=True).unstack()\r\n",
        "ax7.plot(kind='bar', stacked='True',title=str(ax1))\r\n",
        "int_level = data_df['bank_acc'].value_counts()\r\n",
        "#From output, we can conclude  that\r\n",
        "#Individuals from medium sized homes are most likely to have a bank \r\n",
        "# account and those from very large families are less likely to have a bank account"
      ],
      "execution_count": 117,
      "outputs": [
        {
          "output_type": "display_data",
          "data": {
            "image/png": "[encoded data removed]",
            "text/plain": [
              "<Figure size 432x288 with 1 Axes>"
            ]
          },
          "metadata": {
            "tags": [],
            "needs_background": "light"
          }
        }
      ]
    },
    {
      "cell_type": "code",
      "metadata": {
        "colab": {
          "base_uri": "https://localhost:8080/",
          "height": 347
        },
        "id": "GWq8t66MwVmu",
        "outputId": "93fcadba-c4c9-418b-9464-3b28760a2f77"
      },
      "source": [
        "#Numerical-Categorical Variables\r\n",
        "#Age groups\r\n",
        "\r\n",
        "bins= [10,20,30,50,80,100]\r\n",
        "labels = ['Teen','Youth','Adult','Senior Citizen','Very old']\r\n",
        "data_df['AgeGroup'] = pd.cut(data_df['age'], bins=bins, labels=labels, right=False)\r\n",
        "data_df\r\n",
        "#People from which AgeGroup are most likely to own a bank account\r\n",
        "ax6 = data_df.groupby('bank_acc')['AgeGroup'].value_counts(normalize=True).unstack()\r\n",
        "ax6.plot(kind='bar', stacked='True',title=str(ax1))\r\n",
        "int_level = data_df['bank_acc'].value_counts()\r\n",
        "\r\n",
        "\r\n",
        "#From output, we can conclude  that\r\n",
        "#Individuals between the ages of 30_50, adults are most likely to have a bank \r\n",
        "# account and those above 80years are less likely to have a bank account"
      ],
      "execution_count": 120,
      "outputs": [
        {
          "output_type": "display_data",
          "data": {
            "image/png": "[encoded data removed]",
            "text/plain": [
              "<Figure size 432x288 with 1 Axes>"
            ]
          },
          "metadata": {
            "tags": [],
            "needs_background": "light"
          }
        }
      ]
    },
    {
      "cell_type": "code",
      "metadata": {
        "colab": {
          "base_uri": "https://localhost:8080/",
          "height": 347
        },
        "id": "YgpSbricxGHN",
        "outputId": "e7f00020-3acc-47c6-e434-6fa0c23b1cb9"
      },
      "source": [
        "#People from which country are most likely to own a bank account\r\n",
        "ax5 = data_df.groupby('bank_acc')['country'].value_counts(normalize=True).unstack()\r\n",
        "ax5.plot(kind='bar', stacked='True',title=str(ax1))\r\n",
        "int_level = data_df['bank_acc'].value_counts()\r\n",
        "\r\n",
        "#From output, we can conclude \r\n",
        "#Individuals from Kenya are most likely to have a bank account and\r\n",
        "# those Uganda are less likely to have a bank account"
      ],
      "execution_count": 121,
      "outputs": [
        {
          "output_type": "display_data",
          "data": {
            "image/png": "[encoded data removed]",
            "text/plain": [
              "<Figure size 432x288 with 1 Axes>"
            ]
          },
          "metadata": {
            "tags": [],
            "needs_background": "light"
          }
        }
      ]
    },
    {
      "cell_type": "markdown",
      "metadata": {
        "id": "XvA6DMgvxeD1"
      },
      "source": [
        "##Summary of Bivariate Analysis\r\n",
        "1. Individuals between the ages of 30-50, adults are most likely to have a bank account and those above 80years are less likely to have a bank account.\r\n",
        "2. The difference between the males and females who own a bank account is significant. The number of Males who own a bank account is significantly more than females.\r\n",
        "3. Individuals from medium sized homes are most likely to have a bank account and those from very large families are less likely to have a bank account.\r\n",
        "4. Individuals with a secondary education are most likely to have a bank account and those with a primary level education are less likely to have a bank account.\r\n",
        "5. Individuals who are self employed are most likely to have a bank account and those who are informally employed are less likely to have a bank account.\r\n",
        "6. Individuals from Kenya are most likely to have a bank account and those Uganda are less likely to have a bank account."
      ]
    },
    {
      "cell_type": "markdown",
      "metadata": {
        "id": "OgjWixEtydtw"
      },
      "source": [
        "#C. Multivariate Analysis"
      ]
    },
    {
      "cell_type": "code",
      "metadata": {
        "id": "L0QWYFkQyHZq"
      },
      "source": [
        "##we will perform the Linear Discriminant Analysis Reduction Technique\r\n",
        "# and then complete by conducting the multiple regression analysis\r\n",
        "\r\n",
        "#Checking for relationships between dependent and independent variable."
      ],
      "execution_count": null,
      "outputs": []
    },
    {
      "cell_type": "code",
      "metadata": {
        "id": "j-9yVkQdzbOr"
      },
      "source": [
        "import scipy.stats as stats"
      ],
      "execution_count": 123,
      "outputs": []
    },
    {
      "cell_type": "code",
      "metadata": {
        "colab": {
          "base_uri": "https://localhost:8080/",
          "height": 145
        },
        "id": "aN4FIjJ1zMHj",
        "outputId": "0ec97598-5e79-4b1c-8413-eac253f4dd23"
      },
      "source": [
        "data_df.head(2)"
      ],
      "execution_count": 122,
      "outputs": [
        {
          "output_type": "execute_result",
          "data": {
            "text/html": [
              "<div>\n",
              "<style scoped>\n",
              "    .dataframe tbody tr th:only-of-type {\n",
              "        vertical-align: middle;\n",
              "    }\n",
              "\n",
              "    .dataframe tbody tr th {\n",
              "        vertical-align: top;\n",
              "    }\n",
              "\n",
              "    .dataframe thead th {\n",
              "        text-align: right;\n",
              "    }\n",
              "</style>\n",
              "<table border=\"1\" class=\"dataframe\">\n",
              "  <thead>\n",
              "    <tr style=\"text-align: right;\">\n",
              "      <th></th>\n",
              "      <th>country</th>\n",
              "      <th>year</th>\n",
              "      <th>bank_acc</th>\n",
              "      <th>residence</th>\n",
              "      <th>household_size</th>\n",
              "      <th>age</th>\n",
              "      <th>gender</th>\n",
              "      <th>education</th>\n",
              "      <th>job</th>\n",
              "      <th>size</th>\n",
              "      <th>AgeGroup</th>\n",
              "    </tr>\n",
              "  </thead>\n",
              "  <tbody>\n",
              "    <tr>\n",
              "      <th>0</th>\n",
              "      <td>Kenya</td>\n",
              "      <td>2018</td>\n",
              "      <td>Yes</td>\n",
              "      <td>Rural</td>\n",
              "      <td>3.0</td>\n",
              "      <td>24.0</td>\n",
              "      <td>Female</td>\n",
              "      <td>Secondary education</td>\n",
              "      <td>Self employed</td>\n",
              "      <td>Medium</td>\n",
              "      <td>Youth</td>\n",
              "    </tr>\n",
              "    <tr>\n",
              "      <th>1</th>\n",
              "      <td>Kenya</td>\n",
              "      <td>2018</td>\n",
              "      <td>No</td>\n",
              "      <td>Rural</td>\n",
              "      <td>5.0</td>\n",
              "      <td>70.0</td>\n",
              "      <td>Female</td>\n",
              "      <td>No formal education</td>\n",
              "      <td>Government Dependent</td>\n",
              "      <td>Large</td>\n",
              "      <td>Senior Citizen</td>\n",
              "    </tr>\n",
              "  </tbody>\n",
              "</table>\n",
              "</div>"
            ],
            "text/plain": [
              "  country  year bank_acc  ...                   job    size        AgeGroup\n",
              "0   Kenya  2018      Yes  ...         Self employed  Medium           Youth\n",
              "1   Kenya  2018       No  ...  Government Dependent   Large  Senior Citizen\n",
              "\n",
              "[2 rows x 11 columns]"
            ]
          },
          "metadata": {
            "tags": []
          },
          "execution_count": 122
        }
      ]
    },
    {
      "cell_type": "code",
      "metadata": {
        "colab": {
          "base_uri": "https://localhost:8080/"
        },
        "id": "MgBjovxUzd9y",
        "outputId": "ed377ab9-e0a2-40ab-d33a-2e3bcbed5b6c"
      },
      "source": [
        "#Checking for relationship between dependent variable and independent variable\r\n",
        "df= data_df.copy()\r\n",
        "df.head(3)\r\n",
        "to_nums = {\"bank_acc\": {\"Yes\": 1, \"No\": 0},\r\n",
        "           \"residence\": {\"Rural\": 0, \"Urban\": 1},\r\n",
        "           \"gender\": {\"Female\": 2, \"Male\": 3}}\r\n",
        "\r\n",
        "#To convert the columns to numbers using replace :\r\n",
        "df.replace(to_nums, inplace=True)\r\n",
        "print(df.head())\r\n",
        "print(df.info())\r\n",
        "#calculate point-biserial correlation\r\n",
        "x = df['bank_acc']\r\n",
        "y = df['age']\r\n",
        "stats.pointbiserialr(x, y)\r\n",
        "#There is close to no linear correlation between age and having a bank account\r\n",
        "\r\n",
        "x = df['bank_acc']\r\n",
        "y = df['household_size']\r\n",
        "stats.pointbiserialr(x, y)\r\n",
        "#There is no linear correlation between householdd size and having a bank account\r\n",
        "\r\n",
        "x = df['bank_acc']\r\n",
        "y = df['residence']\r\n",
        "stats.pointbiserialr(x, y)\r\n",
        "#There is no linear correlation between householdd size and having a bank account\r\n",
        "\r\n",
        "x = df['bank_acc']\r\n",
        "y = df['gender']\r\n",
        "stats.pointbiserialr(x, y)\r\n",
        "#There is a weak correlation between gender and having a bank account"
      ],
      "execution_count": 124,
      "outputs": [
        {
          "output_type": "stream",
          "text": [
            "  country  year  bank_acc  ...                        job    size        AgeGroup\n",
            "0   Kenya  2018         1  ...              Self employed  Medium           Youth\n",
            "1   Kenya  2018         0  ...       Government Dependent   Large  Senior Citizen\n",
            "2   Kenya  2018         1  ...              Self employed   Large           Youth\n",
            "3   Kenya  2018         0  ...  Formally employed Private   Large           Adult\n",
            "4   Kenya  2018         0  ...        Informally employed     NaN           Youth\n",
            "\n",
            "[5 rows x 11 columns]\n",
            "<class 'pandas.core.frame.DataFrame'>\n",
            "Int64Index: 14834 entries, 0 to 22723\n",
            "Data columns (total 11 columns):\n",
            " #   Column          Non-Null Count  Dtype   \n",
            "---  ------          --------------  -----   \n",
            " 0   country         14834 non-null  object  \n",
            " 1   year            14834 non-null  int64   \n",
            " 2   bank_acc        14834 non-null  int64   \n",
            " 3   residence       14834 non-null  int64   \n",
            " 4   household_size  14834 non-null  float64 \n",
            " 5   age             14834 non-null  float64 \n",
            " 6   gender          14834 non-null  int64   \n",
            " 7   education       14834 non-null  object  \n",
            " 8   job             14834 non-null  object  \n",
            " 9   size            14227 non-null  category\n",
            " 10  AgeGroup        14829 non-null  category\n",
            "dtypes: category(2), float64(2), int64(4), object(3)\n",
            "memory usage: 1.2+ MB\n",
            "None\n"
          ],
          "name": "stdout"
        },
        {
          "output_type": "execute_result",
          "data": {
            "text/plain": [
              "PointbiserialrResult(correlation=0.11410387880558051, pvalue=3.536519594800913e-44)"
            ]
          },
          "metadata": {
            "tags": []
          },
          "execution_count": 124
        }
      ]
    },
    {
      "cell_type": "code",
      "metadata": {
        "id": "AE8XQBOAzxrS"
      },
      "source": [
        "#Reduction Techniques\r\n",
        "\r\n",
        "#dividing data into labels and feature set\r\n",
        "x = data_df.iloc[:, 4:6].values\r\n",
        "y = data_df.iloc[:, 2].values\r\n"
      ],
      "execution_count": null,
      "outputs": []
    },
    {
      "cell_type": "code",
      "metadata": {
        "id": "kF6stl4z0V3R"
      },
      "source": [
        "#dividing data into training and test sets\r\n",
        "from sklearn.model_selection import train_test_split\r\n",
        "x_train, x_test, y_train, y_test = train_test_split(x, y, test_size=0.2, random_state=0)"
      ],
      "execution_count": 128,
      "outputs": []
    },
    {
      "cell_type": "code",
      "metadata": {
        "id": "tQb_Um1n0j-8"
      },
      "source": [
        "#performing feature scaling:\r\n",
        "# \r\n",
        "from sklearn.preprocessing import StandardScaler\r\n",
        "sc = StandardScaler()\r\n",
        "x_train = sc.fit_transform(x_train)\r\n",
        "x_test = sc.transform(x_test)"
      ],
      "execution_count": 129,
      "outputs": []
    },
    {
      "cell_type": "code",
      "metadata": {
        "colab": {
          "base_uri": "https://localhost:8080/"
        },
        "id": "Cl_UgMRQ0mMR",
        "outputId": "719d8dcf-7724-49db-cc73-fa0005c9c5e1"
      },
      "source": [
        "#performing LDA with Scikit-Learn\r\n",
        "from sklearn.discriminant_analysis import LinearDiscriminantAnalysis as LDA\r\n",
        "lda = LDA(n_components=1)\r\n",
        "x_train = lda.fit_transform(x_train, y_train)\r\n",
        "x_test = lda.transform(x_test)\r\n",
        "print(x_test)\r\n",
        "print(x_train)"
      ],
      "execution_count": 130,
      "outputs": [
        {
          "output_type": "stream",
          "text": [
            "[[ 0.45081481]\n",
            " [-1.74830906]\n",
            " [-0.63773291]\n",
            " ...\n",
            " [-2.01265019]\n",
            " [ 1.00152549]\n",
            " [-0.02522816]]\n",
            "[[-0.76206402]\n",
            " [-1.13580431]\n",
            " [-1.35608858]\n",
            " ...\n",
            " [-1.57208164]\n",
            " [ 1.06761078]\n",
            " [-0.74358383]]\n"
          ],
          "name": "stdout"
        }
      ]
    },
    {
      "cell_type": "code",
      "metadata": {
        "id": "-rly_ocy0-Ry"
      },
      "source": [
        "#Training and Making Predictions\r\n",
        "#using the random forest classifier to evaluate the performance of a LDA-reduced algorithms\r\n",
        "from sklearn.ensemble import RandomForestClassifier\r\n",
        "\r\n",
        "classifier = RandomForestClassifier(max_depth=2, random_state=0)\r\n",
        "classifier.fit(x_train, y_train)\r\n",
        "y_pred = classifier.predict(x_test)\r\n"
      ],
      "execution_count": 131,
      "outputs": []
    },
    {
      "cell_type": "code",
      "metadata": {
        "colab": {
          "base_uri": "https://localhost:8080/"
        },
        "id": "qe5vSDKI1DPP",
        "outputId": "d25722c2-7a3e-4124-a801-6b4160ff972c"
      },
      "source": [
        "# Evaluating the Performance\r\n",
        "# with the help of a confusion matrix and find the accuracy of the prediction.\r\n",
        "\r\n",
        "\r\n",
        "from sklearn.metrics import confusion_matrix\r\n",
        "from sklearn.metrics import accuracy_score\r\n",
        "\r\n",
        "cm = confusion_matrix(y_test, y_pred)\r\n",
        "print(cm)\r\n",
        "print('Accuracy' + str(accuracy_score(y_test, y_pred)))\r\n",
        "\r\n",
        "# We can see that with one linear discriminant, the algorithm achieved an accuracy of 80%, "
      ],
      "execution_count": 132,
      "outputs": [
        {
          "output_type": "stream",
          "text": [
            "[[2356    0]\n",
            " [ 611    0]]\n",
            "Accuracy0.7940680822379508\n"
          ],
          "name": "stdout"
        }
      ]
    },
    {
      "cell_type": "markdown",
      "metadata": {
        "id": "g9H-nQwe1ZJS"
      },
      "source": [
        "##Summary of Multivariate\r\n",
        "1. Most of the variables are not linearly related to the dependent variable.\r\n",
        "2. The model achieved an accuracy of 80%\r\n",
        "3. Technique used was Linear Discriminant Analysis"
      ]
    },
    {
      "cell_type": "markdown",
      "metadata": {
        "id": "nPRbtmV_2Sp6"
      },
      "source": [
        "#Challenging the solution\r\n",
        "1. If the year an individual responded to this survey,how important is it in future reference?\r\n",
        "2. How does having access to a phone play a role in an individual's ability to access a bank accout or have one?\r\n"
      ]
    },
    {
      "cell_type": "markdown",
      "metadata": {
        "id": "Yv8eldqq2xg7"
      },
      "source": [
        "#Follow up Questions\r\n",
        "a). Did we have the right data?\r\n",
        "\r\n",
        "Yeah we do have the right data but it is not exhaustive of all variables that might affect having a bank acount or not in real life.\r\n",
        "b). Do we need other data to answer our question?\r\n",
        "\r\n",
        "We do need more that complement this data and give it context and a better realistic understanding.\r\n",
        "\r\n",
        "c). Did we have the right question?\r\n",
        "\r\n",
        "Yeah we did.\r\n"
      ]
    }
  ]
}